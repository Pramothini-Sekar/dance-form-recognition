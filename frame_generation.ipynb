{
  "nbformat": 4,
  "nbformat_minor": 0,
  "metadata": {
    "colab": {
      "name": "dlcv_proj.ipynb",
      "provenance": [],
      "machine_shape": "hm"
    },
    "kernelspec": {
      "display_name": "Python 3",
      "name": "python3"
    },
    "language_info": {
      "name": "python"
    }
  },
  "cells": [
    {
      "cell_type": "code",
      "metadata": {
        "id": "2ZracspLrZis",
        "colab": {
          "base_uri": "https://localhost:8080/"
        },
        "outputId": "4c9a8522-cc2c-4f48-a055-a3f17db83e1f"
      },
      "source": [
        "import cv2\n",
        "import os\n",
        "from os import listdir\n",
        "from os.path import isfile, join\n",
        "import glob\n",
        "import time\n",
        "from google.colab import drive\n",
        "import moviepy\n",
        "from moviepy.editor import VideoFileClip\n",
        "from moviepy.video.io.ffmpeg_tools import ffmpeg_extract_subclip"
      ],
      "execution_count": null,
      "outputs": [
        {
          "output_type": "stream",
          "name": "stdout",
          "text": [
            "Imageio: 'ffmpeg-linux64-v3.3.1' was not found on your computer; downloading it now.\n",
            "Try 1. Download from https://github.com/imageio/imageio-binaries/raw/master/ffmpeg/ffmpeg-linux64-v3.3.1 (43.8 MB)\n",
            "Downloading: 8192/45929032 bytes (0.0%)\b\b\b\b\b\b\b\b\b\b\b\b\b\b\b\b\b\b\b\b\b\b\b\b\b\b3268608/45929032 bytes (7.1%)\b\b\b\b\b\b\b\b\b\b\b\b\b\b\b\b\b\b\b\b\b\b\b\b\b\b\b\b\b6529024/45929032 bytes (14.2%)\b\b\b\b\b\b\b\b\b\b\b\b\b\b\b\b\b\b\b\b\b\b\b\b\b\b\b\b\b\b9953280/45929032 bytes (21.7%)\b\b\b\b\b\b\b\b\b\b\b\b\b\b\b\b\b\b\b\b\b\b\b\b\b\b\b\b\b\b13361152/45929032 bytes (29.1%)\b\b\b\b\b\b\b\b\b\b\b\b\b\b\b\b\b\b\b\b\b\b\b\b\b\b\b\b\b\b\b16613376/45929032 bytes (36.2%)\b\b\b\b\b\b\b\b\b\b\b\b\b\b\b\b\b\b\b\b\b\b\b\b\b\b\b\b\b\b\b19881984/45929032 bytes (43.3%)\b\b\b\b\b\b\b\b\b\b\b\b\b\b\b\b\b\b\b\b\b\b\b\b\b\b\b\b\b\b\b23158784/45929032 bytes (50.4%)\b\b\b\b\b\b\b\b\b\b\b\b\b\b\b\b\b\b\b\b\b\b\b\b\b\b\b\b\b\b\b26591232/45929032 bytes (57.9%)\b\b\b\b\b\b\b\b\b\b\b\b\b\b\b\b\b\b\b\b\b\b\b\b\b\b\b\b\b\b\b30121984/45929032 bytes (65.6%)\b\b\b\b\b\b\b\b\b\b\b\b\b\b\b\b\b\b\b\b\b\b\b\b\b\b\b\b\b\b\b33447936/45929032 bytes (72.8%)\b\b\b\b\b\b\b\b\b\b\b\b\b\b\b\b\b\b\b\b\b\b\b\b\b\b\b\b\b\b\b36839424/45929032 bytes (80.2%)\b\b\b\b\b\b\b\b\b\b\b\b\b\b\b\b\b\b\b\b\b\b\b\b\b\b\b\b\b\b\b40443904/45929032 bytes (88.1%)\b\b\b\b\b\b\b\b\b\b\b\b\b\b\b\b\b\b\b\b\b\b\b\b\b\b\b\b\b\b\b43999232/45929032 bytes (95.8%)\b\b\b\b\b\b\b\b\b\b\b\b\b\b\b\b\b\b\b\b\b\b\b\b\b\b\b\b\b\b\b45929032/45929032 bytes (100.0%)\n",
            "  Done\n",
            "File saved as /root/.imageio/ffmpeg/ffmpeg-linux64-v3.3.1.\n"
          ]
        }
      ]
    },
    {
      "cell_type": "code",
      "metadata": {
        "colab": {
          "base_uri": "https://localhost:8080/"
        },
        "id": "dAqVToHLFkBA",
        "outputId": "398c278d-2995-47d7-e092-3f7a6f877336"
      },
      "source": [
        "drive.mount('/content/drive')"
      ],
      "execution_count": null,
      "outputs": [
        {
          "output_type": "stream",
          "name": "stdout",
          "text": [
            "Mounted at /content/drive\n"
          ]
        }
      ]
    },
    {
      "cell_type": "code",
      "metadata": {
        "id": "ojb8lirkFe28"
      },
      "source": [
        "os.chdir(\"/content/drive/My Drive/Video_Folder\")"
      ],
      "execution_count": null,
      "outputs": []
    },
    {
      "cell_type": "code",
      "metadata": {
        "id": "UtHGL_FObYgc"
      },
      "source": [
        "def video_exists(video_path):\n",
        "  return os.path.exists(video_path)\n",
        "\n",
        "def cut_video(video_path, start, end,new_video_path):\n",
        "  ffmpeg_extract_subclip(video_path, start, end, targetname=new_video_path)\n",
        "  print('done')\n",
        "\n",
        "def extract_clip(video_path, start, end, dance_category):\n",
        "  v_arr = video_path.split(\".\")\n",
        "  print('Video Path Split by . ', v_arr)\n",
        "  new_video_path  =  v_arr[0]+\"_\"+str(start)+\"_\"+str(end)+\".mp4\"\n",
        "  print(new_video_path)\n",
        "  # raise KeyboardInterrupt\n",
        "  dance_folder = os.getcwd() + '/' + dance_category\n",
        "  if not os.path.exists(dance_folder):\n",
        "    os.mkdir(dance_folder)\n",
        "  cut_video(video_path,start,end,new_video_path)\n",
        "  return dance_folder, new_video_path\n",
        "\n",
        "def get_last_frame(dance_folder):\n",
        "  onlyfiles = [f for f in listdir(dance_folder) if isfile(join(dance_folder, f))]\n",
        "  list_frames = [int(item.split('.')[1]) for item in onlyfiles]\n",
        "  return list_frames[-1]\n",
        "\n",
        "def get_every_15th_frame(new_video_path, dance_folder, d_n, last_frame_count):  \n",
        "  start_time=time.time()\n",
        "  count = 0\n",
        "  counter = last_frame_count\n",
        "  cap = cv2.VideoCapture(new_video_path)\n",
        "  success = True\n",
        "  list_of_frames=[]\n",
        "  while success:\n",
        "      success,image = cap.read()\n",
        "      if count%frame_rate == 0 :\n",
        "        print(dance_folder)\n",
        "        if image is not None:\n",
        "            # print('about to write a frame')\n",
        "            # print(v_arr[0] + '/'+ d_n[0] + '_frame_%d.jpg'%count)\n",
        "            print(d_n[0].split('_')[0] + '.' + str(counter))\n",
        "            cv2.imwrite(dance_folder + '/' + d_n[0].split('_')[0] + '.' + str(counter) + '.jpg', image)\n",
        "            # cv2.imwrite(v_arr[0] + '/'+ d_n[0] + '_frame_%d.jpg'%count ,image)\n",
        "            list_of_frames.append(image)\n",
        "            counter+=1\n",
        "      count+=1\n",
        "      \n",
        "  end_time=time.time()\n",
        "  print('time taken for '+str(len(list_of_frames))+' frames was:'+str(end_time-start_time))\n",
        "  return list_of_frames\n",
        "    \n",
        "def get_video_details(video_path):\n",
        "  clip = VideoFileClip(video_path)\n",
        "  duration       = clip.duration\n",
        "  fps            = clip.fps\n",
        "  width, height  = clip.size\n",
        "  print(\"duration, fps, (width, height)\\n\")\n",
        "  print(duration, fps, (width, height))"
      ],
      "execution_count": null,
      "outputs": []
    },
    {
      "cell_type": "code",
      "metadata": {
        "colab": {
          "base_uri": "https://localhost:8080/"
        },
        "id": "uReq0jtwKQaF",
        "outputId": "e7908366-ccec-4c76-eab5-90eabf9a8104"
      },
      "source": [
        "folder_path = os.getcwd()\n",
        "last_frame_count = 1\n",
        "input_params = ['break_5.mp4', [(30,35),(180,190)]]\n",
        "\n",
        "video_name = input_params[0]  #please name this as danceform_number where number is the ith video of this dance form\n",
        "for ind, vid_timestamps in enumerate(input_params[1]):\n",
        "  start = vid_timestamps[0]\n",
        "  end = vid_timestamps[1]\n",
        "  frame_rate = 15 #this is how slowly it will capture a frame and 25 would mean 1 frame per second as the videos downloaded from youtube are at 25 fps\n",
        "\n",
        "  video_path = os.path.join(folder_path, video_name)\n",
        "  print('Video Path ', video_path)\n",
        "  print('Does video exist? ', video_exists(video_path))\n",
        "\n",
        "  danceform_number = video_name\n",
        "  d_n = danceform_number.split(\".\")\n",
        "  dance_category = d_n[0].split('_')[0]\n",
        "\n",
        "\n",
        "\n",
        "  if os.path.exists(folder_path + '/' + dance_category):\n",
        "    last_frame_count = get_last_frame(folder_path + '/' + dance_category)\n",
        "    last_frame_count = last_frame_count + 1\n",
        "    print('Next Frame Count ', last_frame_count) \n",
        "  dance_folder, new_video_path = extract_clip(video_path, start, end, dance_category)\n",
        "  list_of_frames = get_every_15th_frame(new_video_path, dance_folder, d_n, last_frame_count)\n",
        "  get_video_details(new_video_path)\n",
        "\n",
        "\n"
      ],
      "execution_count": null,
      "outputs": [
        {
          "output_type": "stream",
          "name": "stdout",
          "text": [
            "Video Path  /content/drive/My Drive/testvideos/break_5.mp4\n",
            "Does video exist?  True\n",
            "Video Path Split by .  ['/content/drive/My Drive/testvideos/break_5', 'mp4']\n",
            "/content/drive/My Drive/testvideos/break_5_30_35.mp4\n",
            "\n",
            "[MoviePy] Running:\n",
            ">>> /root/.imageio/ffmpeg/ffmpeg-linux64-v3.3.1 -y -i /content/drive/My Drive/testvideos/break_5.mp4 -ss 30.00 -t 5.00 -vcodec copy -acodec copy /content/drive/My Drive/testvideos/break_5_30_35.mp4\n",
            "... command successful.\n",
            "done\n",
            "/content/drive/My Drive/testvideos/break\n",
            "break.1\n",
            "/content/drive/My Drive/testvideos/break\n",
            "break.2\n",
            "/content/drive/My Drive/testvideos/break\n",
            "break.3\n",
            "/content/drive/My Drive/testvideos/break\n",
            "break.4\n",
            "/content/drive/My Drive/testvideos/break\n",
            "break.5\n",
            "/content/drive/My Drive/testvideos/break\n",
            "break.6\n",
            "/content/drive/My Drive/testvideos/break\n",
            "break.7\n",
            "/content/drive/My Drive/testvideos/break\n",
            "break.8\n",
            "/content/drive/My Drive/testvideos/break\n",
            "break.9\n",
            "/content/drive/My Drive/testvideos/break\n",
            "time taken for 9 frames was:1.37530517578125\n",
            "duration, fps, (width, height)\n",
            "\n",
            "5.02 29.97002997002997 (1280, 720)\n",
            "Video Path  /content/drive/My Drive/testvideos/break_5.mp4\n",
            "Does video exist?  True\n",
            "Next Frame Count  10\n",
            "Video Path Split by .  ['/content/drive/My Drive/testvideos/break_5', 'mp4']\n",
            "/content/drive/My Drive/testvideos/break_5_180_190.mp4\n",
            "\n",
            "[MoviePy] Running:\n",
            ">>> /root/.imageio/ffmpeg/ffmpeg-linux64-v3.3.1 -y -i /content/drive/My Drive/testvideos/break_5.mp4 -ss 180.00 -t 10.00 -vcodec copy -acodec copy /content/drive/My Drive/testvideos/break_5_180_190.mp4\n",
            "... command successful.\n",
            "done\n",
            "/content/drive/My Drive/testvideos/break\n",
            "break.10\n",
            "/content/drive/My Drive/testvideos/break\n",
            "break.11\n",
            "/content/drive/My Drive/testvideos/break\n",
            "break.12\n",
            "/content/drive/My Drive/testvideos/break\n",
            "break.13\n",
            "/content/drive/My Drive/testvideos/break\n",
            "break.14\n",
            "/content/drive/My Drive/testvideos/break\n",
            "break.15\n",
            "/content/drive/My Drive/testvideos/break\n",
            "break.16\n",
            "/content/drive/My Drive/testvideos/break\n",
            "break.17\n",
            "/content/drive/My Drive/testvideos/break\n",
            "break.18\n",
            "/content/drive/My Drive/testvideos/break\n",
            "break.19\n",
            "/content/drive/My Drive/testvideos/break\n",
            "break.20\n",
            "/content/drive/My Drive/testvideos/break\n",
            "break.21\n",
            "/content/drive/My Drive/testvideos/break\n",
            "break.22\n",
            "/content/drive/My Drive/testvideos/break\n",
            "break.23\n",
            "/content/drive/My Drive/testvideos/break\n",
            "break.24\n",
            "time taken for 15 frames was:0.8684406280517578\n",
            "duration, fps, (width, height)\n",
            "\n",
            "10.01 29.97002997002997 (1280, 720)\n"
          ]
        }
      ]
    },
    {
      "cell_type": "code",
      "metadata": {
        "id": "C0Rz_PLRbfjB"
      },
      "source": [
        ""
      ],
      "execution_count": null,
      "outputs": []
    }
  ]
}